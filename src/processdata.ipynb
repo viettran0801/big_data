{
 "cells": [
  {
   "cell_type": "code",
   "execution_count": 1,
   "id": "ed693f4e-0f2a-4a90-ba99-51a4b16ad934",
   "metadata": {},
   "outputs": [],
   "source": [
    "import pyspark\n",
    "from pyspark.sql import SparkSession\n",
    "import matplotlib.pyplot as plt\n",
    "import numpy as np"
   ]
  },
  {
   "cell_type": "code",
   "execution_count": 2,
   "id": "86ecffe4-7a6e-406a-8d11-fc37835d8e9f",
   "metadata": {},
   "outputs": [],
   "source": [
    "spark = SparkSession.builder.appName(\"abc\").master(\"spark://spark-master:7077\").getOrCreate()"
   ]
  },
  {
   "cell_type": "code",
   "execution_count": 3,
   "id": "ffdfdfc4-024b-421d-a0f0-f5c2c0ef8397",
   "metadata": {},
   "outputs": [
    {
     "data": {
      "text/html": [
       "\n",
       "            <div>\n",
       "                <p><b>SparkSession - in-memory</b></p>\n",
       "                \n",
       "        <div>\n",
       "            <p><b>SparkContext</b></p>\n",
       "\n",
       "            <p><a href=\"http://111790cc9462:4040\">Spark UI</a></p>\n",
       "\n",
       "            <dl>\n",
       "              <dt>Version</dt>\n",
       "                <dd><code>v3.3.0</code></dd>\n",
       "              <dt>Master</dt>\n",
       "                <dd><code>spark://spark-master:7077</code></dd>\n",
       "              <dt>AppName</dt>\n",
       "                <dd><code>abc</code></dd>\n",
       "            </dl>\n",
       "        </div>\n",
       "        \n",
       "            </div>\n",
       "        "
      ],
      "text/plain": [
       "<pyspark.sql.session.SparkSession at 0x7f416caa9d10>"
      ]
     },
     "execution_count": 3,
     "metadata": {},
     "output_type": "execute_result"
    }
   ],
   "source": [
    "spark"
   ]
  },
  {
   "cell_type": "code",
   "execution_count": 4,
   "id": "03380132-b410-46c1-a3a0-7e8577a2813f",
   "metadata": {},
   "outputs": [],
   "source": [
    "from pyspark.sql.types import StructType,StructField, StringType, DoubleType\n",
    "\n",
    "schema = StructType([\n",
    "      StructField(\"sbd\",StringType(),True),\n",
    "      StructField(\"toan\",DoubleType(),True),\n",
    "      StructField(\"ngu_van\",DoubleType(),True),\n",
    "      StructField(\"ngoai_ngu\",DoubleType(),True),\n",
    "      StructField(\"vat_li\",DoubleType(),True),\n",
    "      StructField(\"hoa_hoc\",DoubleType(),True),\n",
    "      StructField(\"sinh_hoc\",DoubleType(),True),\n",
    "      StructField(\"lich_su\",DoubleType(),True),\n",
    "      StructField(\"dia_li\",DoubleType(),True),\n",
    "      StructField(\"gdcd\",DoubleType(),True),\n",
    "  ])"
   ]
  },
  {
   "cell_type": "code",
   "execution_count": 5,
   "id": "ac65a062-688e-4689-bf53-9c2c138b0648",
   "metadata": {},
   "outputs": [
    {
     "name": "stdout",
     "output_type": "stream",
     "text": [
      "root\n",
      " |-- sbd: string (nullable = true)\n",
      " |-- toan: double (nullable = true)\n",
      " |-- ngu_van: double (nullable = true)\n",
      " |-- ngoai_ngu: double (nullable = true)\n",
      " |-- vat_li: double (nullable = true)\n",
      " |-- hoa_hoc: double (nullable = true)\n",
      " |-- sinh_hoc: double (nullable = true)\n",
      " |-- lich_su: double (nullable = true)\n",
      " |-- dia_li: double (nullable = true)\n",
      " |-- gdcd: double (nullable = true)\n",
      "\n",
      "+--------+----+-------+---------+------+-------+--------+-------+------+----+\n",
      "|     sbd|toan|ngu_van|ngoai_ngu|vat_li|hoa_hoc|sinh_hoc|lich_su|dia_li|gdcd|\n",
      "+--------+----+-------+---------+------+-------+--------+-------+------+----+\n",
      "|01000001| 3.6|    5.0|      4.0|  null|   null|    null|   2.75|   6.0|8.75|\n",
      "|01000002| 8.4|   6.75|      7.6|  null|   null|    null|    8.5|   7.5|8.25|\n",
      "|01000003| 5.8|    7.5|      5.0|  null|   null|    null|   7.25|   5.5|8.75|\n",
      "|01000004| 7.4|    7.5|      8.6|  null|   null|    null|    7.5|   6.5| 7.5|\n",
      "|01000005| 7.2|    8.5|      9.0|  null|   null|    null|    8.0|   8.5|8.25|\n",
      "|01000006| 6.8|    8.5|      9.4|  null|   null|    null|    7.0|   7.5|9.25|\n",
      "|01000007| 7.2|    6.0|      5.0|  null|   null|    null|    8.0|   7.5| 9.0|\n",
      "|01000008| 8.0|    8.0|      8.0|  null|   null|    null|   5.25|   7.0| 7.0|\n",
      "|01000009| 2.6|   5.25|     null|  null|   null|    null|   5.25|  6.75|null|\n",
      "|01000010| 8.8|    8.0|      7.0|  null|   null|    null|    6.5|   6.5|6.75|\n",
      "|01000011| 6.4|   7.25|      7.6|   3.5|    8.0|     3.0|   null|  null|null|\n",
      "|01000012| 6.4|    7.5|     null|  null|   null|    null|   4.75|   5.0| 8.0|\n",
      "|01000013| 8.2|   7.75|      6.4|  null|   null|    null|    7.0|   7.5|7.75|\n",
      "|01000014| 5.8|    5.5|      6.4|  null|   null|    null|    8.5|   8.0|null|\n",
      "|01000015| 8.6|   7.25|      9.6|  8.25|   3.25|    4.25|   null|  null|null|\n",
      "|01000016| 7.8|   5.75|      8.4|  4.25|    8.0|    4.75|   null|  null|null|\n",
      "|01000017| 8.6|   6.25|      7.0|   7.0|    3.5|    3.75|   null|  null|null|\n",
      "|01000018| 6.2|   8.25|      6.6|  null|   null|    null|   6.75|   6.5|8.25|\n",
      "|01000019| 6.8|    7.5|     null|  null|   null|    null|   7.25|  6.25| 8.0|\n",
      "|01000020|null|   6.75|     null|  null|   null|    null|    8.5|   8.0|null|\n",
      "+--------+----+-------+---------+------+-------+--------+-------+------+----+\n",
      "only showing top 20 rows\n",
      "\n"
     ]
    }
   ],
   "source": [
    "data_frame = spark.read.schema(schema) \\\n",
    "    .csv(\"hdfs://namenode:9000/data/*.csv\", header=False)\n",
    "data_frame.printSchema()\n",
    "data_frame.show()"
   ]
  },
  {
   "cell_type": "code",
   "execution_count": 6,
   "id": "269ac0ea-3988-4380-bbd5-3674160f9bf5",
   "metadata": {
    "tags": []
   },
   "outputs": [],
   "source": [
    "data_frame.createOrReplaceTempView(\"student\")"
   ]
  },
  {
   "cell_type": "code",
   "execution_count": 24,
   "id": "de579f70-62a6-443c-b543-d6b3259bfa6a",
   "metadata": {},
   "outputs": [],
   "source": [
    "def round(x):\n",
    "    if (x == (int)(x)): return x\n",
    "    else :\n",
    "        tmp = x - (int)(x)\n",
    "        if tmp <= 0.5: return (int)(x) + 0.5\n",
    "        else: return (int)(x) + 1"
   ]
  },
  {
   "cell_type": "code",
   "execution_count": 7,
   "id": "a5566386-9991-4499-af52-18270b7e3f56",
   "metadata": {},
   "outputs": [],
   "source": [
    "def count_thi_xa_hoi():\n",
    "    sql = spark.sql(\"select count(*) from student where vat_li is null and hoa_hoc is null and sinh_hoc is null\")\n",
    "    sql.show()"
   ]
  },
  {
   "cell_type": "code",
   "execution_count": 8,
   "id": "392313c9-05cb-4268-a359-7fa7a782a0b6",
   "metadata": {},
   "outputs": [],
   "source": [
    "def count_10(subject):\n",
    "    spark.sql(\"select count(\"+ subject +\") \\\n",
    "                      from student where (\" + subject + \" ==10 )\").show()"
   ]
  },
  {
   "cell_type": "code",
   "execution_count": 75,
   "id": "1e2f1b83-2e7e-4e3d-94eb-1eab94e405d8",
   "metadata": {},
   "outputs": [],
   "source": [
    "plt.rcParams[\"figure.figsize\"] = [10.00, 3.50]\n",
    "plt.rcParams[\"figure.autolayout\"] = True"
   ]
  },
  {
   "cell_type": "code",
   "execution_count": 102,
   "id": "73ac01cf-1181-4cc3-9763-23e0e25ebb67",
   "metadata": {},
   "outputs": [],
   "source": [
    "def subject_point_spectrum_by_province(subject, province = \"\"):\n",
    "    global data_frame\n",
    "    subject_mapping = {\n",
    "        \"toan\" : 1,\n",
    "        \"ngu_van\" : 2,\n",
    "        \"ngoai_ngu\" : 3,\n",
    "        \"vat_li\" : 4,\n",
    "        \"hoa_hoc\" : 5,\n",
    "        \"sinh_hoc\" : 6,\n",
    "        \"lich_su\" : 7,\n",
    "        \"dia_li\" : 8,\n",
    "        \"gdcd\": 9\n",
    "    }\n",
    "\n",
    "    scores = data_frame.rdd.filter(lambda x: x[0].startswith(province) if province != \"\" else True).filter(lambda x: x[subject_mapping[subject]] is not None).map(lambda x:x[subject_mapping[subject]]).collect()\n",
    "    count_scores = []\n",
    "    scores_label = []\n",
    "    \n",
    "    k = 5 if(subject == \"toan\" or subject == \"ngoai_ngu\") else 4\n",
    "    \n",
    "    for i in range(k * 10 + 1):\n",
    "        count_scores.append(0)\n",
    "        scores_label.append(i/k)\n",
    "    for i in range(len(scores)):\n",
    "        count_scores[int(k * scores[i])] += 1\n",
    " \n",
    "    fig, ax = plt.subplots()\n",
    "    ax.set_xticks(scores_label)\n",
    "    ax.set_xticklabels(scores_label, rotation=90)\n",
    "    ax.bar(scores_label, count_scores, width=0.1)\n",
    "    print(\"Phổ điểm môn \" + subject)\n",
    "    plt.show() \n",
    "    print(\"\\nMean of subject: \", np.mean(scores)) "
   ]
  },
  {
   "cell_type": "code",
   "execution_count": 106,
   "id": "3171ccc9-8dbf-4e32-aeab-eeccbe438dc9",
   "metadata": {},
   "outputs": [
    {
     "name": "stdout",
     "output_type": "stream",
     "text": [
      "Phổ điểm môn ngoai_ngu\n"
     ]
    },
    {
     "data": {
      "image/png": "[encoded data removed]",
      "text/plain": [
       "<Figure size 1000x350 with 1 Axes>"
      ]
     },
     "metadata": {},
     "output_type": "display_data"
    },
    {
     "name": "stdout",
     "output_type": "stream",
     "text": [
      "\n",
      "Mean of subject:  5.157686401128404\n"
     ]
    }
   ],
   "source": [
    "subject_point_spectrum_by_province(\"ngoai_ngu\")"
   ]
  },
  {
   "cell_type": "code",
   "execution_count": null,
   "id": "1405d79c-dcde-4089-8db1-112c9001b37b",
   "metadata": {},
   "outputs": [
    {
     "name": "stdout",
     "output_type": "stream",
     "text": [
      "+-----------+\n",
      "|count(toan)|\n",
      "+-----------+\n",
      "|         35|\n",
      "+-----------+\n",
      "\n"
     ]
    }
   ],
   "source": [
    "count_10(\"toan\")"
   ]
  },
  {
   "cell_type": "code",
   "execution_count": null,
   "id": "6b9bcce0-85aa-427e-a838-e4ef7d90eeaf",
   "metadata": {},
   "outputs": [],
   "source": []
  }
 ],
 "metadata": {
  "kernelspec": {
   "display_name": "Python 3 (ipykernel)",
   "language": "python",
   "name": "python3"
  },
  "language_info": {
   "codemirror_mode": {
    "name": "ipython",
    "version": 3
   },
   "file_extension": ".py",
   "mimetype": "text/x-python",
   "name": "python",
   "nbconvert_exporter": "python",
   "pygments_lexer": "ipython3",
   "version": "3.7.12"
  },
  "vscode": {
   "interpreter": {
    "hash": "916dbcbb3f70747c44a77c7bcd40155683ae19c65e1c03b4aa3499c5328201f1"
   }
  }
 },
 "nbformat": 4,
 "nbformat_minor": 5
}
